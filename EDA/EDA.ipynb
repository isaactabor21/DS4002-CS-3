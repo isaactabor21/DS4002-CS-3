{
  "cells": [
    {
      "cell_type": "markdown",
      "metadata": {
        "id": "j1ZFYML6ArVM"
      },
      "source": [
        "# Data Wrangling & EDA"
      ]
    },
    {
      "cell_type": "markdown",
      "metadata": {
        "id": "70iwTH10ArVO"
      },
      "source": [
        "##### Kimberly Liu & Isaac Tabor"
      ]
    },
    {
      "cell_type": "markdown",
      "metadata": {
        "id": "zvKp8T6cArVP"
      },
      "source": []
    },
    {
      "cell_type": "markdown",
      "metadata": {
        "id": "G8Q559OXArVP"
      },
      "source": [
        "### March Madness Data"
      ]
    },
    {
      "cell_type": "markdown",
      "source": [
        "**General Overview**\n",
        "\n",
        "We have collected a large amount of data of historical NCAA basketball games and teams going back many years. We intend to use it to build a machine learning model to predict March Madness outcomes.\n",
        "\n",
        "We have data on both men's and women's data currently, with files starting with M containing only data pertaining to men's data, and files starting with W containing only women's data (e.g. MCities, WConferences). MTeamSpellings and WTeamSpellings will help us map TeamID to the team.\n",
        "\n",
        "All of the files are currently complete through January 28th of the current season. This data was compiled into a Kaggle dataset for a March Madness ML competition largely from Kenneth Massey and Jeff Sonas of Sonas Consulting.\n"
      ],
      "metadata": {
        "id": "aDiHvl6kAvym"
      }
    },
    {
      "cell_type": "markdown",
      "source": [
        "**Basic Data Description**\n",
        "\n",
        "We believe the information and variables highlighted from the following datasets will help us build a simple prediction model:\n",
        "\n",
        "- *MTeams.csv* and *WTeams.csv* contain **Team ID** and **Team Names**\n",
        "\n",
        "- *MNCAATourneySeeds.csv* and *WNCAATourneySeeds.csv* contain **tournament seeds since 1984-85 season**. Key to note: We will not know which 68 teams will be in the tournament, or what seeds  are until Selection Sunday on March 16, 2025.\n",
        "\n",
        "- *MRegularSeasonCompactResults.csv* and *WRegularSeasonCompactResults.csv* contain **Final scores of all regular season, conference tournament, and NCAA® tournament games since 1984-85 season**\n",
        "\n",
        "- *MSeasons.csv* and *WSeasons.csv* contain **Season-level details including dates and region names**\n",
        "\n",
        "In the end, we plan to generate our predictions from a machine learning model in format outlined in *SampleSubmissionStage1.csv*\n",
        "\n"
      ],
      "metadata": {
        "id": "BYr3HgQ3ERdr"
      }
    }
  ],
  "metadata": {
    "language_info": {
      "name": "python"
    },
    "colab": {
      "provenance": []
    }
  },
  "nbformat": 4,
  "nbformat_minor": 0
}